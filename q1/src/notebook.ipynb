{
 "cells": [
  {
   "cell_type": "code",
   "execution_count": 5,
   "id": "499d3bee",
   "metadata": {},
   "outputs": [],
   "source": [
    "import json\n",
    "from pathlib import Path\n",
    "from utils import call_ollama"
   ]
  },
  {
   "cell_type": "code",
   "execution_count": 6,
   "id": "5fa17e3a",
   "metadata": {},
   "outputs": [],
   "source": [
    "def load_prompt_template(path):\n",
    "    with open(path, \"r\") as f:\n",
    "        return f.read()\n"
   ]
  },
  {
   "cell_type": "code",
   "execution_count": 7,
   "id": "0778736a",
   "metadata": {},
   "outputs": [],
   "source": [
    "with open(\"../evaluation/input_queries.json\") as f:\n",
    "    queries = json.load(f)\n"
   ]
  },
  {
   "cell_type": "code",
   "execution_count": null,
   "id": "176d5b2f",
   "metadata": {},
   "outputs": [],
   "source": [
    "# zero-shot prompt template\n",
    "\n",
    "prompt_template = load_prompt_template(\"../prompts/zero_shot.txt\")\n",
    "\n",
    "results = []\n",
    "\n",
    "for query in queries:\n",
    "    filled_prompt = prompt_template.replace(\"{{input}}\", query)\n",
    "    output = call_ollama(filled_prompt)\n",
    "    results.append({\"input\": query, \"output\": output})\n",
    "\n",
    "# Save the results to a JSON file\n",
    "with open(\"../evaluation/output_zero_shot_logs.json\", \"w\") as f:\n",
    "    json.dump(results, f, indent=2)\n"
   ]
  },
  {
   "cell_type": "code",
   "execution_count": null,
   "id": "0b869c05",
   "metadata": {},
   "outputs": [],
   "source": [
    "# few-shot prompt template\n",
    "\n",
    "prompt_template = load_prompt_template(\"../prompts/few_shot.txt\")\n",
    "\n",
    "results = []\n",
    "\n",
    "for query in queries:\n",
    "    filled_prompt = prompt_template.replace(\"{{input}}\", query)\n",
    "    output = call_ollama(filled_prompt)\n",
    "    results.append({\"input\": query, \"output\": output})\n",
    "\n",
    "# Save the results to a JSON file\n",
    "with open(\"../evaluation/output_logs_fewshot.json\", \"w\") as f:\n",
    "    json.dump(results, f, indent=2)\n",
    "\n"
   ]
  },
  {
   "cell_type": "code",
   "execution_count": null,
   "id": "5bacb6e7",
   "metadata": {},
   "outputs": [],
   "source": [
    "prompt_template = load_prompt_template(\"../prompts/cot_prompt.txt\")\n",
    "\n",
    "results_cot = []\n",
    "\n",
    "for query in queries:\n",
    "    filled_prompt = prompt_template.replace(\"{{input}}\", query)\n",
    "    output = call_ollama(filled_prompt)\n",
    "    results_cot.append({\"input\": query, \"output\": output})\n",
    "\n",
    "# Save CoT results\n",
    "with open(\"../evaluation/output_logs_cot.json\", \"w\") as f:\n",
    "    json.dump(results_cot, f, indent=2)\n"
   ]
  },
  {
   "cell_type": "code",
   "execution_count": null,
   "id": "f0f467e8",
   "metadata": {},
   "outputs": [],
   "source": [
    "prompt_template = load_prompt_template(\"../prompts/meta_prompt.txt\")\n",
    "\n",
    "results_meta = []\n",
    "\n",
    "for query in queries:\n",
    "    filled_prompt = prompt_template.replace(\"{{input}}\", query)\n",
    "    output = call_ollama(filled_prompt)\n",
    "    results_meta.append({\"input\": query, \"output\": output})\n",
    "\n",
    "# Save meta-prompt results\n",
    "with open(\"../evaluation/output_logs_meta.json\", \"w\") as f:\n",
    "    json.dump(results_meta, f, indent=2)\n"
   ]
  }
 ],
 "metadata": {
  "kernelspec": {
   "display_name": "Python 3",
   "language": "python",
   "name": "python3"
  },
  "language_info": {
   "codemirror_mode": {
    "name": "ipython",
    "version": 3
   },
   "file_extension": ".py",
   "mimetype": "text/x-python",
   "name": "python",
   "nbconvert_exporter": "python",
   "pygments_lexer": "ipython3",
   "version": "3.11.9"
  }
 },
 "nbformat": 4,
 "nbformat_minor": 5
}
